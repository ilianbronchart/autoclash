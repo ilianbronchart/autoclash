{
 "cells": [
  {
   "cell_type": "code",
   "execution_count": 2,
   "metadata": {},
   "outputs": [],
   "source": [
    "import pygetwindow as gw\n",
    "import pyautogui\n",
    "import cv2\n",
    "import numpy as np"
   ]
  },
  {
   "cell_type": "code",
   "execution_count": 4,
   "metadata": {},
   "outputs": [
    {
     "name": "stdout",
     "output_type": "stream",
     "text": [
      "1. \n",
      "2. \n",
      "3. \n",
      "4. ● screenshot.ipynb - autoclash - Visual Studio Code\n",
      "5. Force Android Games Windowed Mode — Mozilla Firefox\n",
      "6. \n",
      "7. \n",
      "8. Windows PowerShell\n",
      "9. Clash of Clans\n",
      "10. Roaming\n",
      "11. current\n",
      "12. Google Play Games beta\n",
      "13. @Yannick - Discord\n",
      "14. \n",
      "15. Steam\n",
      "16. Setup\n",
      "17. BakkesModInjectorCpp\n",
      "18. Windows Input Experience\n",
      "19. NVIDIA GeForce Overlay\n",
      "20. \n",
      "21. \n",
      "22. \n",
      "23. \n",
      "24. \n",
      "25. \n",
      "26. \n",
      "27. \n",
      "28. Spotify Premium\n",
      "29. Program Manager\n"
     ]
    }
   ],
   "source": [
    "def list_open_windows():\n",
    "    windows = gw.getAllWindows()\n",
    "    for i, window in enumerate(windows, start=1):\n",
    "        print(f\"{i}. {window.title}\")\n",
    "\n",
    "list_open_windows()"
   ]
  },
  {
   "cell_type": "code",
   "execution_count": 5,
   "metadata": {},
   "outputs": [
    {
     "name": "stdout",
     "output_type": "stream",
     "text": [
      "An error occurred: Error code from Windows: 0 - The operation completed successfully.\n"
     ]
    }
   ],
   "source": [
    "def find_and_screenshot_window(window_title):\n",
    "    try:\n",
    "        # Find the window by its title\n",
    "        window = gw.getWindowsWithTitle(window_title)[0]\n",
    "        \n",
    "        # Activate the window (bring to front)\n",
    "        window.activate()\n",
    "        \n",
    "        # Wait a moment for the window to be active\n",
    "        pyautogui.sleep(1)\n",
    "\n",
    "        # Take a screenshot of the window's contents\n",
    "        screenshot = pyautogui.screenshot(region=(window.left, window.top, window.width, window.height))\n",
    "        \n",
    "        # Convert the screenshot to a NumPy array\n",
    "        screenshot_np = np.array(screenshot)\n",
    "        \n",
    "        # Convert the color space from BGR to RGB\n",
    "        screenshot_np = cv2.cvtColor(screenshot_np, cv2.COLOR_BGR2RGB)\n",
    "        \n",
    "        # Save the screenshot\n",
    "        cv2.imwrite('window_screenshot.png', screenshot_np)\n",
    "        \n",
    "        print(\"Screenshot taken and saved as 'window_screenshot.png'\")\n",
    "        \n",
    "    except IndexError:\n",
    "        print(\"Window not found. Please ensure the window is open and the title is correct.\")\n",
    "    except Exception as e:\n",
    "        print(\"An error occurred:\", str(e))\n",
    "\n",
    "window_title = 'Clash of Clans'\n",
    "find_and_screenshot_window(window_title)"
   ]
  }
 ],
 "metadata": {
  "kernelspec": {
   "display_name": "venv",
   "language": "python",
   "name": "python3"
  },
  "language_info": {
   "codemirror_mode": {
    "name": "ipython",
    "version": 3
   },
   "file_extension": ".py",
   "mimetype": "text/x-python",
   "name": "python",
   "nbconvert_exporter": "python",
   "pygments_lexer": "ipython3",
   "version": "3.7.9"
  },
  "orig_nbformat": 4
 },
 "nbformat": 4,
 "nbformat_minor": 2
}
